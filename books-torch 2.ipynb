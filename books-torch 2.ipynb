{
 "cells": [
  {
   "cell_type": "markdown",
   "metadata": {},
   "source": [
    "# PyTorch + Word2Vec"
   ]
  },
  {
   "cell_type": "markdown",
   "metadata": {},
   "source": [
    "Book Genre Prediction using PyTorch and Word2Vec. Data available at [here](https://www.kaggle.com/datasets/athu1105/book-genre-prediction)."
   ]
  },
  {
   "cell_type": "code",
   "execution_count": 3,
   "metadata": {},
   "outputs": [
    {
     "name": "stdout",
     "output_type": "stream",
     "text": [
      "Using device: mps\n"
     ]
    }
   ],
   "source": [
    "from pkg import *\n",
    "\n",
    "param_grid = {\n",
    "    'model_type': ['linear', 'gru', 'cnn', 'rnn', 'lstm', 'logistic'],\n",
    "    'learning_rate': [0.001, 0.0001],\n",
    "    'batch_size': [16, 32, 64],\n",
    "    'epochs': [10, 20]\n",
    "    }\n",
    "\n",
    "# stopped at using grid.grid_search to find hyperparameters for \n",
    "config = {\n",
    "    'model_type': 'linear',  # Choose from 'linear', 'cnn', 'rnn', 'lstm', 'gru', 'logistic'\n",
    "    'learning_rate': 0.001,\n",
    "    'batch_size': 32,\n",
    "    'epochs': 10,\n",
    "    }\n",
    "\n",
    "\n",
    "device = classifier.device()\n",
    "print(f\"Using device: {device}\")\n",
    "book = data.Book()\n",
    "embedding = data.Embedding(data=book)\n",
    "# grid_search(book=book, embedding=embedding, param_grid=param_grid)\n",
    "\n",
    "# # choice = 'lstm', 'gru', 'cnn', 'rnn', 'linear'\n",
    "classifier = Classifier(book=book, embedding=embedding, choice='rnn')\n",
    "classifier.train()\n",
    "classifier.plot_losses()\n",
    "results_df = classifier.evaluate()\n",
    "print(results_df.head())\n",
    "# classifier.plot_roc_auc()\n",
    "# classifier.plot_precision_recall()"
   ]
  },
  {
   "cell_type": "code",
   "execution_count": null,
   "metadata": {},
   "outputs": [],
   "source": []
  }
 ],
 "metadata": {
  "kernelspec": {
   "display_name": "flow",
   "language": "python",
   "name": "python3"
  },
  "language_info": {
   "codemirror_mode": {
    "name": "ipython",
    "version": 3
   },
   "file_extension": ".py",
   "mimetype": "text/x-python",
   "name": "python",
   "nbconvert_exporter": "python",
   "pygments_lexer": "ipython3",
   "version": "3.12.4"
  }
 },
 "nbformat": 4,
 "nbformat_minor": 2
}
